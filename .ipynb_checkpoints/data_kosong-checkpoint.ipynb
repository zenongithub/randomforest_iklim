{
 "cells": [
  {
   "cell_type": "code",
   "execution_count": 3,
   "id": "f0f51848-100e-4cbb-b7d0-1fd1d1f0a386",
   "metadata": {},
   "outputs": [],
   "source": [
    "import pandas as pd\n",
    "\n",
    "file_path = 'dataset_gabungan.csv'\n",
    "data = pd.read_csv(file_path)\n",
    "\n",
    "data = data.apply(lambda col: col.fillna(round(col.mean(), 1)) if col.dtype in ['float64', 'int64'] else col)\n",
    "\n",
    "data.to_csv('dataset_gabungan_fix.csv', index=False)\n"
   ]
  },
  {
   "cell_type": "code",
   "execution_count": null,
   "id": "36379b4a-45a7-4596-a19c-7c00e66e1544",
   "metadata": {},
   "outputs": [],
   "source": []
  }
 ],
 "metadata": {
  "kernelspec": {
   "display_name": "Python 3 (ipykernel)",
   "language": "python",
   "name": "python3"
  },
  "language_info": {
   "codemirror_mode": {
    "name": "ipython",
    "version": 3
   },
   "file_extension": ".py",
   "mimetype": "text/x-python",
   "name": "python",
   "nbconvert_exporter": "python",
   "pygments_lexer": "ipython3",
   "version": "3.10.0"
  }
 },
 "nbformat": 4,
 "nbformat_minor": 5
}
