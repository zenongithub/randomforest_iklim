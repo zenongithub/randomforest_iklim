{
 "cells": [
  {
   "cell_type": "code",
   "execution_count": 29,
   "id": "a8642530-80fa-4a7e-9266-f312d45ce410",
   "metadata": {},
   "outputs": [],
   "source": [
    "import pandas as pd\n",
    "import numpy as np\n",
    "from sklearn.model_selection import train_test_split\n",
    "from sklearn.preprocessing import MinMaxScaler\n",
    "from keras.models import Sequential\n",
    "from keras.layers import LSTM, Dense, Input\n",
    "from keras.optimizers import Adam\n",
    "from sklearn.metrics import mean_absolute_error, mean_squared_error, mean_absolute_percentage_error"
   ]
  },
  {
   "cell_type": "code",
   "execution_count": 30,
   "id": "82561ddc-9b9e-4b0a-a987-dbf51f5c9f82",
   "metadata": {},
   "outputs": [],
   "source": [
    "data = pd.read_csv('dataset_fix/Jawa Timur.csv')"
   ]
  },
  {
   "cell_type": "code",
   "execution_count": 31,
   "id": "0ce39071-c998-4458-b25b-08eaf6114a15",
   "metadata": {},
   "outputs": [
    {
     "data": {
      "text/html": [
       "<div>\n",
       "<style scoped>\n",
       "    .dataframe tbody tr th:only-of-type {\n",
       "        vertical-align: middle;\n",
       "    }\n",
       "\n",
       "    .dataframe tbody tr th {\n",
       "        vertical-align: top;\n",
       "    }\n",
       "\n",
       "    .dataframe thead th {\n",
       "        text-align: right;\n",
       "    }\n",
       "</style>\n",
       "<table border=\"1\" class=\"dataframe\">\n",
       "  <thead>\n",
       "    <tr style=\"text-align: right;\">\n",
       "      <th></th>\n",
       "      <th>name</th>\n",
       "      <th>tanggal</th>\n",
       "      <th>bulan</th>\n",
       "      <th>tahun</th>\n",
       "      <th>temp</th>\n",
       "      <th>humidity</th>\n",
       "      <th>cloudcover</th>\n",
       "      <th>sealevelpressure</th>\n",
       "      <th>windspeed</th>\n",
       "      <th>precip</th>\n",
       "    </tr>\n",
       "  </thead>\n",
       "  <tbody>\n",
       "    <tr>\n",
       "      <th>0</th>\n",
       "      <td>JAWA TIMUR</td>\n",
       "      <td>1</td>\n",
       "      <td>1</td>\n",
       "      <td>2014</td>\n",
       "      <td>75.3</td>\n",
       "      <td>88.3</td>\n",
       "      <td>92.1</td>\n",
       "      <td>1010.7</td>\n",
       "      <td>14.3</td>\n",
       "      <td>0.024</td>\n",
       "    </tr>\n",
       "    <tr>\n",
       "      <th>1</th>\n",
       "      <td>JAWA TIMUR</td>\n",
       "      <td>2</td>\n",
       "      <td>1</td>\n",
       "      <td>2014</td>\n",
       "      <td>80.4</td>\n",
       "      <td>75.8</td>\n",
       "      <td>62.1</td>\n",
       "      <td>1009.5</td>\n",
       "      <td>11.4</td>\n",
       "      <td>0.000</td>\n",
       "    </tr>\n",
       "    <tr>\n",
       "      <th>2</th>\n",
       "      <td>JAWA TIMUR</td>\n",
       "      <td>3</td>\n",
       "      <td>1</td>\n",
       "      <td>2014</td>\n",
       "      <td>80.4</td>\n",
       "      <td>81.1</td>\n",
       "      <td>40.3</td>\n",
       "      <td>1008.8</td>\n",
       "      <td>10.3</td>\n",
       "      <td>2.441</td>\n",
       "    </tr>\n",
       "    <tr>\n",
       "      <th>3</th>\n",
       "      <td>JAWA TIMUR</td>\n",
       "      <td>4</td>\n",
       "      <td>1</td>\n",
       "      <td>2014</td>\n",
       "      <td>78.4</td>\n",
       "      <td>86.1</td>\n",
       "      <td>53.0</td>\n",
       "      <td>1008.7</td>\n",
       "      <td>15.0</td>\n",
       "      <td>3.653</td>\n",
       "    </tr>\n",
       "    <tr>\n",
       "      <th>4</th>\n",
       "      <td>JAWA TIMUR</td>\n",
       "      <td>5</td>\n",
       "      <td>1</td>\n",
       "      <td>2014</td>\n",
       "      <td>78.4</td>\n",
       "      <td>85.1</td>\n",
       "      <td>49.6</td>\n",
       "      <td>1007.6</td>\n",
       "      <td>13.9</td>\n",
       "      <td>0.008</td>\n",
       "    </tr>\n",
       "  </tbody>\n",
       "</table>\n",
       "</div>"
      ],
      "text/plain": [
       "         name  tanggal  bulan  tahun  temp  humidity  cloudcover  \\\n",
       "0  JAWA TIMUR        1      1   2014  75.3      88.3        92.1   \n",
       "1  JAWA TIMUR        2      1   2014  80.4      75.8        62.1   \n",
       "2  JAWA TIMUR        3      1   2014  80.4      81.1        40.3   \n",
       "3  JAWA TIMUR        4      1   2014  78.4      86.1        53.0   \n",
       "4  JAWA TIMUR        5      1   2014  78.4      85.1        49.6   \n",
       "\n",
       "   sealevelpressure  windspeed  precip  \n",
       "0            1010.7       14.3   0.024  \n",
       "1            1009.5       11.4   0.000  \n",
       "2            1008.8       10.3   2.441  \n",
       "3            1008.7       15.0   3.653  \n",
       "4            1007.6       13.9   0.008  "
      ]
     },
     "execution_count": 31,
     "metadata": {},
     "output_type": "execute_result"
    }
   ],
   "source": [
    "data.head()"
   ]
  },
  {
   "cell_type": "code",
   "execution_count": 32,
   "id": "c8c87983-7d11-43a9-ba6c-a8f6670f6e07",
   "metadata": {},
   "outputs": [],
   "source": [
    "data['precip_log'] = np.log1p(data['temp'])"
   ]
  },
  {
   "cell_type": "code",
   "execution_count": 33,
   "id": "d0f68f36-e6cf-4cc8-bed0-1fe049e865a3",
   "metadata": {},
   "outputs": [],
   "source": [
    "\n",
    "# Normalisasi fitur input (tanggal, bulan, tahun)\n",
    "scaler_X = MinMaxScaler()\n",
    "X_scaled = scaler_X.fit_transform(data[['tanggal', 'bulan', 'tahun']].values)  # bisa gunakan .values\n",
    "\n",
    "# Normalisasi target (precip_log)\n",
    "scaler_y = MinMaxScaler()\n",
    "y_scaled = scaler_y.fit_transform(data['precip_log'].values.reshape(-1, 1))  # pastikan ini 2D\n"
   ]
  },
  {
   "cell_type": "code",
   "execution_count": 34,
   "id": "cb192387-3f7a-4b86-926f-01f5faa6b7a5",
   "metadata": {},
   "outputs": [],
   "source": [
    "# Split data ke dalam data latih dan uji\n",
    "X_train, X_test, y_train, y_test = train_test_split(X_scaled, y_scaled, test_size=0.2, random_state=42)\n",
    "\n",
    "# Fungsi untuk membentuk dataset menjadi time steps untuk LSTM\n",
    "def create_dataset(X, y, time_steps=1):\n",
    "    Xs, ys = [], []\n",
    "    for i in range(len(X) - time_steps + 1):\n",
    "        Xs.append(X[i:(i + time_steps)])\n",
    "        ys.append(y[i + time_steps - 1])\n",
    "    return np.array(Xs), np.array(ys)\n",
    "\n",
    "# Menggunakan 1 timestep\n",
    "time_steps = 1\n",
    "X_train, y_train = create_dataset(X_train, y_train, time_steps)\n",
    "X_test, y_test = create_dataset(X_test, y_test, time_steps)\n",
    "\n",
    "# Reshape menjadi bentuk yang sesuai untuk LSTM\n",
    "X_train = X_train.reshape((X_train.shape[0], time_steps, X_train.shape[2]))\n",
    "X_test = X_test.reshape((X_test.shape[0], time_steps, X_test.shape[2]))\n"
   ]
  },
  {
   "cell_type": "code",
   "execution_count": 35,
   "id": "1f16ae2b-d7fd-4e24-8490-928438ba6d02",
   "metadata": {},
   "outputs": [
    {
     "name": "stdout",
     "output_type": "stream",
     "text": [
      "Epoch 1/20\n",
      "\u001b[1m92/92\u001b[0m \u001b[32m━━━━━━━━━━━━━━━━━━━━\u001b[0m\u001b[37m\u001b[0m \u001b[1m1s\u001b[0m 738us/step - loss: 0.3636 \n",
      "Epoch 2/20\n",
      "\u001b[1m92/92\u001b[0m \u001b[32m━━━━━━━━━━━━━━━━━━━━\u001b[0m\u001b[37m\u001b[0m \u001b[1m0s\u001b[0m 793us/step - loss: 0.1886\n",
      "Epoch 3/20\n",
      "\u001b[1m92/92\u001b[0m \u001b[32m━━━━━━━━━━━━━━━━━━━━\u001b[0m\u001b[37m\u001b[0m \u001b[1m0s\u001b[0m 793us/step - loss: 0.1036\n",
      "Epoch 4/20\n",
      "\u001b[1m92/92\u001b[0m \u001b[32m━━━━━━━━━━━━━━━━━━━━\u001b[0m\u001b[37m\u001b[0m \u001b[1m0s\u001b[0m 794us/step - loss: 0.0586\n",
      "Epoch 5/20\n",
      "\u001b[1m92/92\u001b[0m \u001b[32m━━━━━━━━━━━━━━━━━━━━\u001b[0m\u001b[37m\u001b[0m \u001b[1m0s\u001b[0m 802us/step - loss: 0.0503\n",
      "Epoch 6/20\n",
      "\u001b[1m92/92\u001b[0m \u001b[32m━━━━━━━━━━━━━━━━━━━━\u001b[0m\u001b[37m\u001b[0m \u001b[1m0s\u001b[0m 798us/step - loss: 0.0458\n",
      "Epoch 7/20\n",
      "\u001b[1m92/92\u001b[0m \u001b[32m━━━━━━━━━━━━━━━━━━━━\u001b[0m\u001b[37m\u001b[0m \u001b[1m0s\u001b[0m 797us/step - loss: 0.0443\n",
      "Epoch 8/20\n",
      "\u001b[1m92/92\u001b[0m \u001b[32m━━━━━━━━━━━━━━━━━━━━\u001b[0m\u001b[37m\u001b[0m \u001b[1m0s\u001b[0m 809us/step - loss: 0.0438\n",
      "Epoch 9/20\n",
      "\u001b[1m92/92\u001b[0m \u001b[32m━━━━━━━━━━━━━━━━━━━━\u001b[0m\u001b[37m\u001b[0m \u001b[1m0s\u001b[0m 1ms/step - loss: 0.0426\n",
      "Epoch 10/20\n",
      "\u001b[1m92/92\u001b[0m \u001b[32m━━━━━━━━━━━━━━━━━━━━\u001b[0m\u001b[37m\u001b[0m \u001b[1m0s\u001b[0m 814us/step - loss: 0.0437\n",
      "Epoch 11/20\n",
      "\u001b[1m92/92\u001b[0m \u001b[32m━━━━━━━━━━━━━━━━━━━━\u001b[0m\u001b[37m\u001b[0m \u001b[1m0s\u001b[0m 805us/step - loss: 0.0408\n",
      "Epoch 12/20\n",
      "\u001b[1m92/92\u001b[0m \u001b[32m━━━━━━━━━━━━━━━━━━━━\u001b[0m\u001b[37m\u001b[0m \u001b[1m0s\u001b[0m 809us/step - loss: 0.0386\n",
      "Epoch 13/20\n",
      "\u001b[1m92/92\u001b[0m \u001b[32m━━━━━━━━━━━━━━━━━━━━\u001b[0m\u001b[37m\u001b[0m \u001b[1m0s\u001b[0m 818us/step - loss: 0.0385\n",
      "Epoch 14/20\n",
      "\u001b[1m92/92\u001b[0m \u001b[32m━━━━━━━━━━━━━━━━━━━━\u001b[0m\u001b[37m\u001b[0m \u001b[1m0s\u001b[0m 800us/step - loss: 0.0387\n",
      "Epoch 15/20\n",
      "\u001b[1m92/92\u001b[0m \u001b[32m━━━━━━━━━━━━━━━━━━━━\u001b[0m\u001b[37m\u001b[0m \u001b[1m0s\u001b[0m 775us/step - loss: 0.0368\n",
      "Epoch 16/20\n",
      "\u001b[1m92/92\u001b[0m \u001b[32m━━━━━━━━━━━━━━━━━━━━\u001b[0m\u001b[37m\u001b[0m \u001b[1m0s\u001b[0m 772us/step - loss: 0.0340\n",
      "Epoch 17/20\n",
      "\u001b[1m92/92\u001b[0m \u001b[32m━━━━━━━━━━━━━━━━━━━━\u001b[0m\u001b[37m\u001b[0m \u001b[1m0s\u001b[0m 799us/step - loss: 0.0312\n",
      "Epoch 18/20\n",
      "\u001b[1m92/92\u001b[0m \u001b[32m━━━━━━━━━━━━━━━━━━━━\u001b[0m\u001b[37m\u001b[0m \u001b[1m0s\u001b[0m 806us/step - loss: 0.0303\n",
      "Epoch 19/20\n",
      "\u001b[1m92/92\u001b[0m \u001b[32m━━━━━━━━━━━━━━━━━━━━\u001b[0m\u001b[37m\u001b[0m \u001b[1m0s\u001b[0m 792us/step - loss: 0.0282\n",
      "Epoch 20/20\n",
      "\u001b[1m92/92\u001b[0m \u001b[32m━━━━━━━━━━━━━━━━━━━━\u001b[0m\u001b[37m\u001b[0m \u001b[1m0s\u001b[0m 797us/step - loss: 0.0249\n"
     ]
    },
    {
     "data": {
      "text/plain": [
       "<keras.src.callbacks.history.History at 0x22aadc94d30>"
      ]
     },
     "execution_count": 35,
     "metadata": {},
     "output_type": "execute_result"
    }
   ],
   "source": [
    "# Membuat model LSTM\n",
    "def build_model():\n",
    "    model = Sequential([\n",
    "        Input(shape=(time_steps, X_train.shape[2])),\n",
    "        LSTM(50, activation='relu'),\n",
    "        Dense(1)\n",
    "    ])\n",
    "    model.compile(optimizer=Adam(), loss='mse')\n",
    "    return model\n",
    "\n",
    "# Inisialisasi dan latih model\n",
    "model = build_model()\n",
    "model.fit(X_train, y_train, epochs=20, verbose=1)\n"
   ]
  },
  {
   "cell_type": "code",
   "execution_count": 36,
   "id": "a89255ba-17a7-405e-8f4f-c3a8597e59bc",
   "metadata": {},
   "outputs": [
    {
     "name": "stdout",
     "output_type": "stream",
     "text": [
      "\u001b[1m23/23\u001b[0m \u001b[32m━━━━━━━━━━━━━━━━━━━━\u001b[0m\u001b[37m\u001b[0m \u001b[1m0s\u001b[0m 5ms/step\n"
     ]
    }
   ],
   "source": [
    "# Prediksi pada data uji\n",
    "y_pred_log = model.predict(X_test)\n",
    "\n",
    "# Membalikkan transformasi log untuk mendapatkan hasil asli\n",
    "y_pred_original = np.expm1(y_pred_log)  # gunakan np.expm1 untuk mendapatkan nilai asli\n",
    "y_test_original = scaler_y.inverse_transform(y_test)\n"
   ]
  },
  {
   "cell_type": "code",
   "execution_count": 37,
   "id": "0475c5cd-82cf-48d4-9961-aa7a4d8c417c",
   "metadata": {},
   "outputs": [
    {
     "name": "stdout",
     "output_type": "stream",
     "text": [
      "MAE: 0.133, MSE: 0.035, MAPE: 0.036\n"
     ]
    }
   ],
   "source": [
    "# Hitung Metrik Error (MAE, MSE, MAPE)\n",
    "mae_precip = mean_absolute_error(y_test_original, y_pred_original).round(3)\n",
    "mse_precip = mean_squared_error(y_test_original, y_pred_original).round(3)\n",
    "mape_precip = mean_absolute_percentage_error(y_test_original, y_pred_original).round(3)\n",
    "\n",
    "print(f\"MAE: {mae_precip}, MSE: {mse_precip}, MAPE: {mape_precip}\")\n"
   ]
  },
  {
   "cell_type": "code",
   "execution_count": 38,
   "id": "e6c9b49b-9ac3-4d39-a05a-8eddcee403fc",
   "metadata": {},
   "outputs": [
    {
     "name": "stdout",
     "output_type": "stream",
     "text": [
      "\u001b[1m3/3\u001b[0m \u001b[32m━━━━━━━━━━━━━━━━━━━━\u001b[0m\u001b[37m\u001b[0m \u001b[1m0s\u001b[0m 1ms/step \n",
      "      tanggal      temp\n",
      "0  2024-01-31  3.136634\n",
      "1  2024-02-29  3.131168\n",
      "2  2024-03-31  3.125516\n",
      "3  2024-04-30  3.119690\n",
      "4  2024-05-31  3.113705\n",
      "..        ...       ...\n",
      "78 2030-07-31  2.403920\n",
      "79 2030-08-31  2.382696\n",
      "80 2030-09-30  2.362022\n",
      "81 2030-10-31  2.342178\n",
      "82 2030-11-30  2.322745\n",
      "\n",
      "[83 rows x 2 columns]\n"
     ]
    },
    {
     "name": "stderr",
     "output_type": "stream",
     "text": [
      "C:\\Users\\mlutf\\AppData\\Local\\Programs\\Python\\Python310\\lib\\site-packages\\sklearn\\base.py:458: UserWarning: X has feature names, but MinMaxScaler was fitted without feature names\n",
      "  warnings.warn(\n"
     ]
    }
   ],
   "source": [
    "# Fungsi untuk membuat array tanggal dari Januari 2024 hingga Desember 2030\n",
    "def create_date_range(start_date, end_date):\n",
    "    return pd.date_range(start=start_date, end=end_date, freq='M')\n",
    "\n",
    "# Siapkan data untuk prediksi\n",
    "start_date = '2024-01-01'\n",
    "end_date = '2030-12-30'\n",
    "future_dates = create_date_range(start_date, end_date)\n",
    "\n",
    "# Buat DataFrame untuk tanggal prediksi\n",
    "future_df = pd.DataFrame({'tanggal': future_dates.month, \n",
    "                          'bulan': future_dates.month, \n",
    "                          'tahun': future_dates.year})\n",
    "\n",
    "# Normalisasi fitur input\n",
    "future_X_scaled = scaler_X.transform(future_df[['tanggal', 'bulan', 'tahun']])\n",
    "\n",
    "# Membentuk dataset untuk input ke model (1 timestep)\n",
    "future_X, _ = create_dataset(future_X_scaled, np.zeros(len(future_X_scaled)), time_steps)\n",
    "\n",
    "# Reshape untuk input ke LSTM\n",
    "future_X = future_X.reshape((future_X.shape[0], time_steps, future_X.shape[2]))\n",
    "\n",
    "# Lakukan prediksi\n",
    "future_precip_log = model.predict(future_X)\n",
    "\n",
    "# Balikkan transformasi log\n",
    "future_precip = scaler_y.inverse_transform(future_precip_log)\n",
    "\n",
    "# Buat DataFrame untuk menyimpan hasil\n",
    "result_df = pd.DataFrame({\n",
    "    'tanggal': future_dates,\n",
    "    'temp': future_precip.flatten()\n",
    "})\n",
    "\n",
    "# Simpan hasil prediksi\n",
    "result_df.to_csv('prediksi_temp_2024_2030.csv', index=False)\n",
    "\n",
    "print(result_df)\n"
   ]
  },
  {
   "cell_type": "code",
   "execution_count": null,
   "id": "6189853c-f16e-4525-aaf3-18df92a94ff0",
   "metadata": {},
   "outputs": [],
   "source": []
  }
 ],
 "metadata": {
  "kernelspec": {
   "display_name": "Python 3 (ipykernel)",
   "language": "python",
   "name": "python3"
  },
  "language_info": {
   "codemirror_mode": {
    "name": "ipython",
    "version": 3
   },
   "file_extension": ".py",
   "mimetype": "text/x-python",
   "name": "python",
   "nbconvert_exporter": "python",
   "pygments_lexer": "ipython3",
   "version": "3.10.0"
  }
 },
 "nbformat": 4,
 "nbformat_minor": 5
}
