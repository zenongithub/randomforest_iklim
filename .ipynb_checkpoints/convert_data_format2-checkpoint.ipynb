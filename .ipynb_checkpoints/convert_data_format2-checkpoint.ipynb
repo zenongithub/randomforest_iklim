{
 "cells": [
  {
   "cell_type": "code",
   "execution_count": 43,
   "id": "d1895ddb-aaa5-4743-b977-41686719945f",
   "metadata": {},
   "outputs": [],
   "source": [
    "import pandas as pd"
   ]
  },
  {
   "cell_type": "code",
   "execution_count": 44,
   "id": "30e70e17-2674-4187-b2d9-08596a1cec2d",
   "metadata": {},
   "outputs": [],
   "source": [
    "file_path = 'dataset_rare/Sumatera Utara.csv'\n",
    "df = pd.read_csv(file_path)"
   ]
  },
  {
   "cell_type": "code",
   "execution_count": 45,
   "id": "7f1ead03-f51c-4cbe-b457-958ec9d29ed0",
   "metadata": {},
   "outputs": [
    {
     "name": "stdout",
     "output_type": "stream",
     "text": [
      "Data sebelum konversi:\n",
      "   datetime\n",
      "0  1/1/2014\n",
      "1  1/2/2014\n",
      "2  1/3/2014\n",
      "3  1/4/2014\n",
      "4  1/5/2014\n"
     ]
    }
   ],
   "source": [
    "print(\"Data sebelum konversi:\")\n",
    "print(df[['datetime']].head())"
   ]
  },
  {
   "cell_type": "code",
   "execution_count": 46,
   "id": "53a16e40-0f72-4e4f-b18e-0b59a3aff461",
   "metadata": {},
   "outputs": [],
   "source": [
    "df['datetime'] = pd.to_datetime(df['datetime'], format='%m/%d/%Y', errors='coerce')"
   ]
  },
  {
   "cell_type": "code",
   "execution_count": 47,
   "id": "b3bab6f8-cb15-4ed9-b4c4-299954bd9770",
   "metadata": {},
   "outputs": [
    {
     "name": "stdout",
     "output_type": "stream",
     "text": [
      "Data setelah konversi datetime:\n",
      "    datetime\n",
      "0 2014-01-01\n",
      "1 2014-01-02\n",
      "2 2014-01-03\n",
      "3 2014-01-04\n",
      "4 2014-01-05\n"
     ]
    }
   ],
   "source": [
    "print(\"Data setelah konversi datetime:\")\n",
    "print(df[['datetime']].head())"
   ]
  },
  {
   "cell_type": "code",
   "execution_count": 48,
   "id": "470be9cf-1e96-400a-a1bd-1ec58f53f4f6",
   "metadata": {},
   "outputs": [],
   "source": [
    "df['tanggal'] = df['datetime'].dt.day\n",
    "df['bulan'] = df['datetime'].dt.month\n",
    "df['tahun'] = df['datetime'].dt.year"
   ]
  },
  {
   "cell_type": "code",
   "execution_count": 49,
   "id": "2e038efa-d255-4a98-896c-2397ae80c15b",
   "metadata": {},
   "outputs": [],
   "source": [
    "df_filtered = df[['name', 'tanggal', 'bulan', 'tahun', 'temp', 'humidity', 'cloudcover', 'sealevelpressure', 'windspeed', 'precip']]"
   ]
  },
  {
   "cell_type": "code",
   "execution_count": 50,
   "id": "0a182911-b7de-4392-b3c9-d2fa691bbd4f",
   "metadata": {},
   "outputs": [],
   "source": [
    "output_file_path = 'dataset_convert/Sumatera Utara.csv'\n",
    "df_filtered.to_csv(output_file_path, index=False)"
   ]
  },
  {
   "cell_type": "code",
   "execution_count": 51,
   "id": "f785476c-7e20-4734-a7c1-c06b60b083f6",
   "metadata": {},
   "outputs": [
    {
     "name": "stdout",
     "output_type": "stream",
     "text": [
      "Data yang sudah difilter disimpan ke dataset_convert/Sumatera Utara.csv\n"
     ]
    }
   ],
   "source": [
    "print(f\"Data yang sudah difilter disimpan ke {output_file_path}\")"
   ]
  },
  {
   "cell_type": "code",
   "execution_count": null,
   "id": "dba4eff3-ef8d-4715-a54f-b18204c8489b",
   "metadata": {},
   "outputs": [],
   "source": []
  }
 ],
 "metadata": {
  "kernelspec": {
   "display_name": "Python 3 (ipykernel)",
   "language": "python",
   "name": "python3"
  },
  "language_info": {
   "codemirror_mode": {
    "name": "ipython",
    "version": 3
   },
   "file_extension": ".py",
   "mimetype": "text/x-python",
   "name": "python",
   "nbconvert_exporter": "python",
   "pygments_lexer": "ipython3",
   "version": "3.10.0"
  }
 },
 "nbformat": 4,
 "nbformat_minor": 5
}
