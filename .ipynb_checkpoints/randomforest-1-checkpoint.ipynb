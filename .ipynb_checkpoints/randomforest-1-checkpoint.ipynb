{
 "cells": [
  {
   "cell_type": "code",
   "execution_count": 1,
   "id": "7d34f7c7-f19d-4581-915e-322efd8bbbe9",
   "metadata": {},
   "outputs": [],
   "source": [
    "import pandas as pd\n",
    "from sklearn.model_selection import train_test_split\n",
    "from sklearn.ensemble import RandomForestRegressor\n",
    "from sklearn.metrics import mean_absolute_error"
   ]
  },
  {
   "cell_type": "code",
   "execution_count": 2,
   "id": "d812229d-6396-4688-b940-fc2e7415578f",
   "metadata": {},
   "outputs": [],
   "source": [
    "data = pd.read_csv('dataset.csv')"
   ]
  },
  {
   "cell_type": "code",
   "execution_count": 3,
   "id": "053393ed-e1bf-485f-a84a-38068f33fff8",
   "metadata": {},
   "outputs": [],
   "source": [
    "results = []\n",
    "mae_results = []"
   ]
  },
  {
   "cell_type": "code",
   "execution_count": 4,
   "id": "8822f213-63ab-4784-a8bc-6ab6175e5245",
   "metadata": {},
   "outputs": [],
   "source": [
    "unique_names = data['name'].unique()"
   ]
  },
  {
   "cell_type": "code",
   "execution_count": 5,
   "id": "557c5f1b-261f-45f0-8762-a879afa323fb",
   "metadata": {},
   "outputs": [],
   "source": [
    "for name in unique_names:\n",
    "\n",
    "    province_data = data[data['name'] == name]\n",
    "    \n",
    "    X = province_data[['tanggal', 'bulan', 'tahun']]\n",
    "    y_temp = province_data['temp_celsius']\n",
    "    y_humidity = province_data['humidity']\n",
    "    y_cloudcover = province_data['cloudcover']\n",
    "    y_sealevelpressure = province_data['sealevelpressure']\n",
    "    y_windspeed = province_data['windspeed']\n",
    "    y_precip = province_data['precip']\n",
    "\n",
    "    X_train, X_test, y_temp_train, y_temp_test = train_test_split(\n",
    "        X, y_temp, test_size=0.2, random_state=42)\n",
    "    _, _, y_humidity_train, y_humidity_test = train_test_split(\n",
    "        X, y_humidity, test_size=0.2, random_state=42)\n",
    "    _, _, y_cloudcover_train, y_cloudcover_test = train_test_split(\n",
    "        X, y_cloudcover, test_size=0.2, random_state=42)\n",
    "    _, _, y_sealevelpressure_train, y_sealevelpressure_test = train_test_split(\n",
    "        X, y_sealevelpressure, test_size=0.2, random_state=42)\n",
    "    _, _, y_windspeed_train, y_windspeed_test = train_test_split(\n",
    "        X, y_windspeed, test_size=0.2, random_state=42)\n",
    "    _, _, y_precip_train, y_precip_test = train_test_split(\n",
    "        X, y_precip, test_size=0.2, random_state=42)\n",
    "\n",
    "    rf_temp = RandomForestRegressor(n_estimators=100, random_state=42)\n",
    "    rf_humidity = RandomForestRegressor(n_estimators=100, random_state=42)\n",
    "    rf_cloudcover = RandomForestRegressor(n_estimators=100, random_state=42)\n",
    "    rf_sealevelpressure = RandomForestRegressor(n_estimators=100, random_state=42)\n",
    "    rf_windspeed = RandomForestRegressor(n_estimators=100, random_state=42)\n",
    "    rf_precip = RandomForestRegressor(n_estimators=100, random_state=42)\n",
    "\n",
    "    rf_temp.fit(X_train, y_temp_train)\n",
    "    rf_humidity.fit(X_train, y_humidity_train)\n",
    "    rf_cloudcover.fit(X_train, y_cloudcover_train)\n",
    "    rf_sealevelpressure.fit(X_train, y_sealevelpressure_train)\n",
    "    rf_windspeed.fit(X_train, y_windspeed_train)\n",
    "    rf_precip.fit(X_train, y_precip_train)\n",
    "\n",
    "    temp_pred_test = rf_temp.predict(X_test)\n",
    "    humidity_pred_test = rf_humidity.predict(X_test)\n",
    "    cloudcover_pred_test = rf_cloudcover.predict(X_test)\n",
    "    sealevelpressure_pred_test = rf_sealevelpressure.predict(X_test)\n",
    "    windspeed_pred_test = rf_windspeed.predict(X_test)\n",
    "    precip_pred_test = rf_precip.predict(X_test)\n",
    "\n",
    "    mae_temp = mean_absolute_error(y_temp_test, temp_pred_test)\n",
    "    mae_humidity = mean_absolute_error(y_humidity_test, humidity_pred_test)\n",
    "    mae_cloudcover = mean_absolute_error(y_cloudcover_test, cloudcover_pred_test)\n",
    "    mae_sealevelpressure = mean_absolute_error(y_sealevelpressure_test, sealevelpressure_pred_test)\n",
    "    mae_windspeed = mean_absolute_error(y_windspeed_test, windspeed_pred_test)\n",
    "    mae_precip = mean_absolute_error(y_precip_test, precip_pred_test)\n",
    "\n",
    "    mae_results.append({\n",
    "        'name': name,\n",
    "        'mae_temp': mae_temp.round(1),\n",
    "        'mae_humidity': mae_humidity.round(1),\n",
    "        'mae_cloudcover': mae_cloudcover.round(1),\n",
    "        'mae_sealevelpressure': mae_sealevelpressure.round(1),\n",
    "        'mae_windspeed': mae_windspeed.round(1),\n",
    "        'mae_precip': mae_precip.round(1)\n",
    "    })\n",
    "\n",
    "    date_range = pd.date_range(start='2024-01-01', end='2030-12-30')\n",
    "    future_dates = pd.DataFrame({\n",
    "        'tanggal': date_range.day,\n",
    "        'bulan': date_range.month,\n",
    "        'tahun': date_range.year,\n",
    "        'name': name\n",
    "    })\n",
    "\n",
    "    pred_temp = rf_temp.predict(future_dates[['tanggal', 'bulan', 'tahun']])\n",
    "    pred_humidity = rf_humidity.predict(future_dates[['tanggal', 'bulan', 'tahun']])\n",
    "    pred_cloudcover = rf_cloudcover.predict(future_dates[['tanggal', 'bulan', 'tahun']])\n",
    "    pred_sealevelpressure = rf_sealevelpressure.predict(future_dates[['tanggal', 'bulan', 'tahun']])\n",
    "    pred_windspeed = rf_windspeed.predict(future_dates[['tanggal', 'bulan', 'tahun']])\n",
    "    pred_precip = rf_precip.predict(future_dates[['tanggal', 'bulan', 'tahun']])\n",
    "\n",
    "    temp_results = pd.DataFrame({\n",
    "        'name': future_dates['name'],\n",
    "        'tanggal': future_dates['tanggal'],\n",
    "        'bulan': future_dates['bulan'],\n",
    "        'tahun': future_dates['tahun'],\n",
    "        'temp': pred_temp.round(1),\n",
    "        'humidity': pred_humidity.round(1),\n",
    "        'cloudcover': pred_cloudcover.round(1),\n",
    "        'sealevelpressure': pred_sealevelpressure.round(1),\n",
    "        'windspeed': pred_windspeed.round(1),\n",
    "        'precip': pred_precip.round(1)\n",
    "    })\n",
    "\n",
    "    results.append(temp_results)\n",
    "\n",
    "final_results = pd.concat(results, ignore_index=True)"
   ]
  },
  {
   "cell_type": "code",
   "execution_count": 6,
   "id": "700b26d1-bb91-4b96-858e-c0e1b75e1d3d",
   "metadata": {},
   "outputs": [],
   "source": [
    "mae_df = pd.DataFrame(mae_results)"
   ]
  },
  {
   "cell_type": "code",
   "execution_count": 7,
   "id": "54c0b272-3920-47c4-b3bb-651d72aed5ea",
   "metadata": {},
   "outputs": [
    {
     "name": "stdout",
     "output_type": "stream",
     "text": [
      "Prediksi harian untuk semua provinsi telah disimpan ke 'prediksi_harian_2024_2030.csv'\n",
      "MAE untuk setiap provinsi telah disimpan ke 'mae_per_provinsi.csv'\n"
     ]
    }
   ],
   "source": [
    "final_results.to_csv('prediksi_harian_2024_2030.csv', index=False)\n",
    "mae_df.to_csv('mae_per_provinsi.csv', index=False)\n",
    "\n",
    "print(\"Prediksi harian untuk semua provinsi telah disimpan ke 'prediksi_harian_2024_2030.csv'\")\n",
    "print(\"MAE untuk setiap provinsi telah disimpan ke 'mae_per_provinsi.csv'\")"
   ]
  },
  {
   "cell_type": "code",
   "execution_count": null,
   "id": "706429a0-b214-4f48-ada0-6b5fdc2ef478",
   "metadata": {},
   "outputs": [],
   "source": []
  }
 ],
 "metadata": {
  "kernelspec": {
   "display_name": "Python 3 (ipykernel)",
   "language": "python",
   "name": "python3"
  },
  "language_info": {
   "codemirror_mode": {
    "name": "ipython",
    "version": 3
   },
   "file_extension": ".py",
   "mimetype": "text/x-python",
   "name": "python",
   "nbconvert_exporter": "python",
   "pygments_lexer": "ipython3",
   "version": "3.10.0"
  }
 },
 "nbformat": 4,
 "nbformat_minor": 5
}
