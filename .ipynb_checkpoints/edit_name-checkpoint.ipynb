{
 "cells": [
  {
   "cell_type": "code",
   "execution_count": 37,
   "id": "7fb036b3-8829-4515-b2c8-6fbef24734cf",
   "metadata": {},
   "outputs": [],
   "source": [
    "import pandas as pd"
   ]
  },
  {
   "cell_type": "code",
   "execution_count": 203,
   "id": "b4d9bdef-9aca-49a3-8878-f23f14d52862",
   "metadata": {},
   "outputs": [],
   "source": [
    "file_path = 'dataset_convert/Aceh.csv'\n",
    "df = pd.read_csv(file_path)"
   ]
  },
  {
   "cell_type": "code",
   "execution_count": 204,
   "id": "d15e21b4-9280-4058-874e-242f33e7122c",
   "metadata": {},
   "outputs": [
    {
     "name": "stdout",
     "output_type": "stream",
     "text": [
      "         name  tanggal  bulan  tahun  temp  humidity  cloudcover  \\\n",
      "0  yogyakarta        1      1   2014  79.6      82.3        70.3   \n",
      "1  yogyakarta        2      1   2014  82.4      75.7        60.2   \n",
      "2  yogyakarta        3      1   2014  81.0      80.7        53.6   \n",
      "3  yogyakarta        4      1   2014  79.9      86.0        66.0   \n",
      "4  yogyakarta        5      1   2014  80.3      81.4        65.0   \n",
      "\n",
      "   sealevelpressure  windspeed  precip  \n",
      "0            1008.9       18.8   0.267  \n",
      "1            1007.8       11.4   0.386  \n",
      "2            1007.1       11.4   0.926  \n",
      "3            1006.5       11.4   1.334  \n",
      "4            1005.8       11.6   0.803  \n"
     ]
    }
   ],
   "source": [
    "print(df.head())"
   ]
  },
  {
   "cell_type": "code",
   "execution_count": 205,
   "id": "bc561685-32e9-4d67-b88a-a00dfa5b4ddd",
   "metadata": {},
   "outputs": [],
   "source": [
    "df['name'] = 'ACEH'"
   ]
  },
  {
   "cell_type": "code",
   "execution_count": 206,
   "id": "4639bae1-e025-4cde-af9c-8efd4f0dceaf",
   "metadata": {},
   "outputs": [
    {
     "name": "stdout",
     "output_type": "stream",
     "text": [
      "\n",
      "Data setelah diubah:\n",
      "         name  tanggal  bulan  tahun  temp  humidity  cloudcover  \\\n",
      "0  YOGYAKARTA        1      1   2014  79.6      82.3        70.3   \n",
      "1  YOGYAKARTA        2      1   2014  82.4      75.7        60.2   \n",
      "2  YOGYAKARTA        3      1   2014  81.0      80.7        53.6   \n",
      "3  YOGYAKARTA        4      1   2014  79.9      86.0        66.0   \n",
      "4  YOGYAKARTA        5      1   2014  80.3      81.4        65.0   \n",
      "\n",
      "   sealevelpressure  windspeed  precip  \n",
      "0            1008.9       18.8   0.267  \n",
      "1            1007.8       11.4   0.386  \n",
      "2            1007.1       11.4   0.926  \n",
      "3            1006.5       11.4   1.334  \n",
      "4            1005.8       11.6   0.803  \n"
     ]
    }
   ],
   "source": [
    "print(\"\\nData setelah diubah:\")\n",
    "print(df.head())"
   ]
  },
  {
   "cell_type": "code",
   "execution_count": 207,
   "id": "deeed983-90df-4d61-b569-13d49a24a96a",
   "metadata": {},
   "outputs": [],
   "source": [
    "df.to_csv('dataset_fix/Aceh.csv', index=False)"
   ]
  },
  {
   "cell_type": "code",
   "execution_count": null,
   "id": "13999c8e-e125-41e8-ac2e-8e2d20e21534",
   "metadata": {},
   "outputs": [],
   "source": []
  }
 ],
 "metadata": {
  "kernelspec": {
   "display_name": "Python 3 (ipykernel)",
   "language": "python",
   "name": "python3"
  },
  "language_info": {
   "codemirror_mode": {
    "name": "ipython",
    "version": 3
   },
   "file_extension": ".py",
   "mimetype": "text/x-python",
   "name": "python",
   "nbconvert_exporter": "python",
   "pygments_lexer": "ipython3",
   "version": "3.10.0"
  }
 },
 "nbformat": 4,
 "nbformat_minor": 5
}
