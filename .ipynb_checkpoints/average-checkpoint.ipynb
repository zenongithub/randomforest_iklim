{
 "cells": [
  {
   "cell_type": "code",
   "execution_count": 42,
   "id": "6f08067f-bf13-476e-97dd-8883036a1cd8",
   "metadata": {},
   "outputs": [],
   "source": [
    "import pandas as pd"
   ]
  },
  {
   "cell_type": "code",
   "execution_count": 43,
   "id": "d23a7c9d-68f2-4168-bc1a-0a0386ff0fbe",
   "metadata": {},
   "outputs": [],
   "source": [
    "df = pd.read_csv('lstm/mae_2.csv')"
   ]
  },
  {
   "cell_type": "code",
   "execution_count": 44,
   "id": "ac61d7dc-154e-43a7-8117-918bccf005d5",
   "metadata": {},
   "outputs": [],
   "source": [
    "average_values = df.mean(numeric_only=True).round(3)"
   ]
  },
  {
   "cell_type": "code",
   "execution_count": 45,
   "id": "e44ada01-a021-4a2b-a924-8610daecac2e",
   "metadata": {},
   "outputs": [],
   "source": [
    "results = pd.DataFrame({\n",
    "    'matrix': ['mae'],\n",
    "    'temp': [average_values['mae_temp']],\n",
    "    'humidity': [average_values['mae_humidity']],\n",
    "    'cloudcover': [average_values['mae_cloudcover']],\n",
    "    'sealevelpressure': [average_values['mae_sealevelpressure']],\n",
    "    'windspeed': [average_values['mae_windspeed']],\n",
    "    'precip': [average_values['mae_precip']]\n",
    "})"
   ]
  },
  {
   "cell_type": "code",
   "execution_count": 46,
   "id": "b24914b1-d81a-4db6-90e4-08c02bdbd6e1",
   "metadata": {},
   "outputs": [],
   "source": [
    "results.to_csv('lstm/rata_rata_mae_2.csv', index=False)"
   ]
  },
  {
   "cell_type": "code",
   "execution_count": null,
   "id": "23b44b65-33a8-454f-aa2c-448c3efe9a27",
   "metadata": {},
   "outputs": [],
   "source": []
  }
 ],
 "metadata": {
  "kernelspec": {
   "display_name": "Python 3 (ipykernel)",
   "language": "python",
   "name": "python3"
  },
  "language_info": {
   "codemirror_mode": {
    "name": "ipython",
    "version": 3
   },
   "file_extension": ".py",
   "mimetype": "text/x-python",
   "name": "python",
   "nbconvert_exporter": "python",
   "pygments_lexer": "ipython3",
   "version": "3.10.0"
  }
 },
 "nbformat": 4,
 "nbformat_minor": 5
}
