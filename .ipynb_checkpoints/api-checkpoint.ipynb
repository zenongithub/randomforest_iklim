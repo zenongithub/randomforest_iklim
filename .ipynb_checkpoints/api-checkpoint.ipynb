{
 "cells": [
  {
   "cell_type": "code",
   "execution_count": 1,
   "id": "af67add2-a3aa-49c1-a511-08be0becdb8f",
   "metadata": {},
   "outputs": [],
   "source": [
    "import pandas as pd\n",
    "from flask import Flask, jsonify, request\n",
    "from threading import Thread\n",
    "from collections import OrderedDict\n",
    "import json"
   ]
  },
  {
   "cell_type": "code",
   "execution_count": 2,
   "id": "676caf6b-ad2c-4e6a-af4e-82db4f9bdb34",
   "metadata": {},
   "outputs": [],
   "source": [
    "app = Flask(__name__)"
   ]
  },
  {
   "cell_type": "code",
   "execution_count": 3,
   "id": "f0faa1de-c660-484f-843c-f911d5d046f9",
   "metadata": {},
   "outputs": [],
   "source": [
    "@app.route('/predictions', methods=['GET'])\n",
    "def get_predictions():\n",
    "    try:\n",
    "        df = pd.read_csv('prediksi_harian_2024_2025.csv')\n",
    "    except FileNotFoundError:\n",
    "        return jsonify({\"error\": \"File prediksi tidak ditemukan\"}), 404\n",
    "\n",
    "    province_name = request.args.get('name')\n",
    "    tanggal = request.args.get('tanggal')\n",
    "    bulan = request.args.get('bulan')\n",
    "    tahun = request.args.get('tahun')\n",
    "\n",
    "    if province_name:\n",
    "        df = df[df['name'] == province_name]\n",
    "        if df.empty:\n",
    "            return jsonify({\"error\": f\"Data prediksi untuk provinsi {province_name} tidak ditemukan\"}), 404\n",
    "\n",
    "    if tanggal:\n",
    "        df = df[df['tanggal'] == int(tanggal)] \n",
    "    if bulan:\n",
    "        df = df[df['bulan'] == int(bulan)]  \n",
    "    if tahun:\n",
    "        df = df[df['tahun'] == int(tahun)]  \n",
    "\n",
    "    if df.empty:\n",
    "        return jsonify({\"error\": \"Data prediksi tidak ditemukan untuk kriteria yang diberikan\"}), 404\n",
    "\n",
    "    predictions = df.to_dict(orient='records')\n",
    "\n",
    "    formatted_predictions = []\n",
    "    for pred in predictions:\n",
    "        ordered_pred = OrderedDict({\n",
    "            \"name\": pred[\"name\"],\n",
    "            \"tanggal\": pred[\"tanggal\"],\n",
    "            \"bulan\": pred[\"bulan\"],\n",
    "            \"tahun\": pred[\"tahun\"],\n",
    "            \"cloudcover\": pred[\"cloudcover\"],\n",
    "            \"humidity\": pred[\"humidity\"],\n",
    "            \"precip\": pred[\"precip\"],\n",
    "            \"sealevelpressure\": pred[\"sealevelpressure\"],\n",
    "            \"temp\": pred[\"temp\"],\n",
    "            \"windspeed\": pred[\"windspeed\"]\n",
    "        })\n",
    "        formatted_predictions.append(ordered_pred)\n",
    "\n",
    "    return json.dumps(formatted_predictions, indent=4)\n"
   ]
  },
  {
   "cell_type": "code",
   "execution_count": 4,
   "id": "04a33d4b-f53e-4b4f-9f4d-1ea42001e789",
   "metadata": {},
   "outputs": [
    {
     "name": "stdout",
     "output_type": "stream",
     "text": [
      " * Serving Flask app '__main__'\n",
      " * Debug mode: off\n"
     ]
    },
    {
     "name": "stderr",
     "output_type": "stream",
     "text": [
      "WARNING: This is a development server. Do not use it in a production deployment. Use a production WSGI server instead.\n",
      " * Running on http://127.0.0.1:5000\n",
      "Press CTRL+C to quit\n",
      "127.0.0.1 - - [07/Oct/2024 20:32:13] \"GET /predictions HTTP/1.1\" 200 -\n"
     ]
    }
   ],
   "source": [
    "def run_app():\n",
    "    app.run(debug=False, use_reloader=False)\n",
    "\n",
    "thread = Thread(target=run_app)\n",
    "thread.start()"
   ]
  },
  {
   "cell_type": "code",
   "execution_count": null,
   "id": "f3881ecd-332f-41ed-9caa-43f039be6bb8",
   "metadata": {},
   "outputs": [],
   "source": []
  }
 ],
 "metadata": {
  "kernelspec": {
   "display_name": "Python 3 (ipykernel)",
   "language": "python",
   "name": "python3"
  },
  "language_info": {
   "codemirror_mode": {
    "name": "ipython",
    "version": 3
   },
   "file_extension": ".py",
   "mimetype": "text/x-python",
   "name": "python",
   "nbconvert_exporter": "python",
   "pygments_lexer": "ipython3",
   "version": "3.10.0"
  }
 },
 "nbformat": 4,
 "nbformat_minor": 5
}
