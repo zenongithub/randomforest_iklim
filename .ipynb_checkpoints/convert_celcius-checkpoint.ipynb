{
 "cells": [
  {
   "cell_type": "code",
   "execution_count": 1,
   "id": "d613e952-81ec-4cf7-9bc3-210dfea1f81f",
   "metadata": {},
   "outputs": [
    {
     "name": "stdout",
     "output_type": "stream",
     "text": [
      "              name  tanggal  bulan  tahun  temp  humidity  cloudcover  \\\n",
      "0             ACEH        1      1   2014  24.5      89.2        85.8   \n",
      "1             ACEH        2      1   2014  24.7      85.5        78.7   \n",
      "2             ACEH        3      1   2014  23.9      90.4        90.1   \n",
      "3             ACEH        4      1   2014  24.5      86.1        83.4   \n",
      "4             ACEH        5      1   2014  24.6      85.5        66.4   \n",
      "...            ...      ...    ...    ...   ...       ...         ...   \n",
      "138771  YOGYAKARTA       27     12   2023  26.5      76.3        86.6   \n",
      "138772  YOGYAKARTA       28     12   2023  26.7      78.4        87.3   \n",
      "138773  YOGYAKARTA       29     12   2023  26.5      80.8        57.3   \n",
      "138774  YOGYAKARTA       30     12   2023  26.3      83.7        87.5   \n",
      "138775  YOGYAKARTA       31     12   2023  26.0      85.5        90.9   \n",
      "\n",
      "        sealevelpressure  windspeed  precip  temp_celsius  \n",
      "0                 1010.7       13.0   8.806          24.5  \n",
      "1                 1011.1       14.8  76.537          24.7  \n",
      "2                 1012.4       16.2   1.140          23.9  \n",
      "3                 1011.6       10.8   1.500          24.5  \n",
      "4                 1010.3        9.7  10.012          24.6  \n",
      "...                  ...        ...     ...           ...  \n",
      "138771            1012.9       14.8   4.700          26.5  \n",
      "138772            1011.7       14.4   8.800          26.7  \n",
      "138773            1010.5       15.5  14.400          26.5  \n",
      "138774            1010.1       14.4  15.800          26.3  \n",
      "138775            1010.4       13.3  36.500          26.0  \n",
      "\n",
      "[138776 rows x 11 columns]\n"
     ]
    }
   ],
   "source": [
    "import pandas as pd\n",
    "\n",
    "# Memuat data dari file CSV\n",
    "file_path = 'dataset_gabungan_fix.csv'  # Ganti dengan path file CSV Anda\n",
    "df = pd.read_csv(file_path)\n",
    "\n",
    "# Fungsi untuk mengonversi suhu\n",
    "def convert_temperature(temp):\n",
    "    # Anggap suhu di bawah 0°C adalah Celsius\n",
    "    if temp < 32:  # Mengasumsikan 0°C = 32°F\n",
    "        return round(temp, 1)  # Sudah dalam Celsius, dibulatkan\n",
    "    else:\n",
    "        return round((temp - 32) * 5.0 / 9.0, 1)  # Konversi dari Fahrenheit ke Celsius, dibulatkan\n",
    "\n",
    "# Mengonversi suhu ke Celsius\n",
    "df['temp_celsius'] = df['temp'].apply(convert_temperature)\n",
    "\n",
    "# Menampilkan DataFrame dengan kolom baru\n",
    "print(df)\n",
    "\n",
    "# Menyimpan hasil ke file CSV baru jika diperlukan\n",
    "df.to_csv('dataset.csv', index=False)\n"
   ]
  },
  {
   "cell_type": "code",
   "execution_count": null,
   "id": "3763cc69-fb7c-44fe-bcf7-a204a134718f",
   "metadata": {},
   "outputs": [],
   "source": []
  }
 ],
 "metadata": {
  "kernelspec": {
   "display_name": "Python 3 (ipykernel)",
   "language": "python",
   "name": "python3"
  },
  "language_info": {
   "codemirror_mode": {
    "name": "ipython",
    "version": 3
   },
   "file_extension": ".py",
   "mimetype": "text/x-python",
   "name": "python",
   "nbconvert_exporter": "python",
   "pygments_lexer": "ipython3",
   "version": "3.10.0"
  }
 },
 "nbformat": 4,
 "nbformat_minor": 5
}
