{
 "cells": [
  {
   "cell_type": "code",
   "execution_count": 1,
   "id": "f0253987-08a0-48bc-ba61-3f08a9d6e3d9",
   "metadata": {},
   "outputs": [],
   "source": [
    "import pandas as pd\n",
    "from sklearn.model_selection import train_test_split\n",
    "from sklearn.ensemble import RandomForestRegressor\n",
    "from sklearn.metrics import mean_squared_error\n",
    "from sklearn.metrics import mean_absolute_error"
   ]
  },
  {
   "cell_type": "code",
   "execution_count": 2,
   "id": "b714f466-2408-4002-bd4f-14a501e67f1f",
   "metadata": {},
   "outputs": [],
   "source": [
    "data = pd.read_csv(\"dataset_convert/jawa timur.csv\")"
   ]
  },
  {
   "cell_type": "code",
   "execution_count": 3,
   "id": "de417fa4-8c9a-4166-aa79-6c15c36c85f8",
   "metadata": {},
   "outputs": [],
   "source": [
    "X = data[['tanggal', 'bulan', 'tahun']]\n",
    "y_temp = data['temp']\n",
    "y_humidity = data['humidity']\n",
    "y_cloudcover = data['cloudcover']\n",
    "y_sealevelpressure = data['sealevelpressure']\n",
    "y_windspeed = data['windspeed']\n",
    "y_precip = data['precip']"
   ]
  },
  {
   "cell_type": "code",
   "execution_count": 4,
   "id": "8eb23715-f52a-41eb-b246-2b95aab47f4e",
   "metadata": {},
   "outputs": [],
   "source": [
    "X_train, X_test, y_temp_train, y_temp_test = train_test_split(X, y_temp, test_size=0.2, random_state=42)\n",
    "_, _, y_humidity_train, y_humidity_test = train_test_split(X, y_humidity, test_size=0.2, random_state=42)\n",
    "_, _, y_cloudcover_train, y_cloudcover_test = train_test_split(X, y_cloudcover, test_size=0.2, random_state=42)\n",
    "_, _, y_sealevelpressure_train, y_sealevelpressure_test = train_test_split(X, y_sealevelpressure, test_size=0.2, random_state=42)\n",
    "_, _, y_windspeed_train, y_windspeed_test = train_test_split(X, y_windspeed, test_size=0.2, random_state=42)\n",
    "_, _, y_precip_train, y_precip_test = train_test_split(X, y_precip, test_size=0.2, random_state=42)"
   ]
  },
  {
   "cell_type": "code",
   "execution_count": 5,
   "id": "3e396016-0ea3-4fcc-8c68-6e6e32f6a415",
   "metadata": {},
   "outputs": [],
   "source": [
    "rf_temp = RandomForestRegressor(n_estimators=100, random_state=42)\n",
    "rf_humidity = RandomForestRegressor(n_estimators=100, random_state=42)\n",
    "rf_cloudcover = RandomForestRegressor(n_estimators=100, random_state=42)\n",
    "rf_sealevelpressure = RandomForestRegressor(n_estimators=100, random_state=42)\n",
    "rf_windspeed = RandomForestRegressor(n_estimators=100, random_state=42)\n",
    "rf_precip = RandomForestRegressor(n_estimators=100, random_state=42)"
   ]
  },
  {
   "cell_type": "code",
   "execution_count": 6,
   "id": "de1a81f5-5ddc-47eb-95e7-f9e9efb975d1",
   "metadata": {},
   "outputs": [
    {
     "data": {
      "text/html": [
       "<style>#sk-container-id-1 {color: black;}#sk-container-id-1 pre{padding: 0;}#sk-container-id-1 div.sk-toggleable {background-color: white;}#sk-container-id-1 label.sk-toggleable__label {cursor: pointer;display: block;width: 100%;margin-bottom: 0;padding: 0.3em;box-sizing: border-box;text-align: center;}#sk-container-id-1 label.sk-toggleable__label-arrow:before {content: \"▸\";float: left;margin-right: 0.25em;color: #696969;}#sk-container-id-1 label.sk-toggleable__label-arrow:hover:before {color: black;}#sk-container-id-1 div.sk-estimator:hover label.sk-toggleable__label-arrow:before {color: black;}#sk-container-id-1 div.sk-toggleable__content {max-height: 0;max-width: 0;overflow: hidden;text-align: left;background-color: #f0f8ff;}#sk-container-id-1 div.sk-toggleable__content pre {margin: 0.2em;color: black;border-radius: 0.25em;background-color: #f0f8ff;}#sk-container-id-1 input.sk-toggleable__control:checked~div.sk-toggleable__content {max-height: 200px;max-width: 100%;overflow: auto;}#sk-container-id-1 input.sk-toggleable__control:checked~label.sk-toggleable__label-arrow:before {content: \"▾\";}#sk-container-id-1 div.sk-estimator input.sk-toggleable__control:checked~label.sk-toggleable__label {background-color: #d4ebff;}#sk-container-id-1 div.sk-label input.sk-toggleable__control:checked~label.sk-toggleable__label {background-color: #d4ebff;}#sk-container-id-1 input.sk-hidden--visually {border: 0;clip: rect(1px 1px 1px 1px);clip: rect(1px, 1px, 1px, 1px);height: 1px;margin: -1px;overflow: hidden;padding: 0;position: absolute;width: 1px;}#sk-container-id-1 div.sk-estimator {font-family: monospace;background-color: #f0f8ff;border: 1px dotted black;border-radius: 0.25em;box-sizing: border-box;margin-bottom: 0.5em;}#sk-container-id-1 div.sk-estimator:hover {background-color: #d4ebff;}#sk-container-id-1 div.sk-parallel-item::after {content: \"\";width: 100%;border-bottom: 1px solid gray;flex-grow: 1;}#sk-container-id-1 div.sk-label:hover label.sk-toggleable__label {background-color: #d4ebff;}#sk-container-id-1 div.sk-serial::before {content: \"\";position: absolute;border-left: 1px solid gray;box-sizing: border-box;top: 0;bottom: 0;left: 50%;z-index: 0;}#sk-container-id-1 div.sk-serial {display: flex;flex-direction: column;align-items: center;background-color: white;padding-right: 0.2em;padding-left: 0.2em;position: relative;}#sk-container-id-1 div.sk-item {position: relative;z-index: 1;}#sk-container-id-1 div.sk-parallel {display: flex;align-items: stretch;justify-content: center;background-color: white;position: relative;}#sk-container-id-1 div.sk-item::before, #sk-container-id-1 div.sk-parallel-item::before {content: \"\";position: absolute;border-left: 1px solid gray;box-sizing: border-box;top: 0;bottom: 0;left: 50%;z-index: -1;}#sk-container-id-1 div.sk-parallel-item {display: flex;flex-direction: column;z-index: 1;position: relative;background-color: white;}#sk-container-id-1 div.sk-parallel-item:first-child::after {align-self: flex-end;width: 50%;}#sk-container-id-1 div.sk-parallel-item:last-child::after {align-self: flex-start;width: 50%;}#sk-container-id-1 div.sk-parallel-item:only-child::after {width: 0;}#sk-container-id-1 div.sk-dashed-wrapped {border: 1px dashed gray;margin: 0 0.4em 0.5em 0.4em;box-sizing: border-box;padding-bottom: 0.4em;background-color: white;}#sk-container-id-1 div.sk-label label {font-family: monospace;font-weight: bold;display: inline-block;line-height: 1.2em;}#sk-container-id-1 div.sk-label-container {text-align: center;}#sk-container-id-1 div.sk-container {/* jupyter's `normalize.less` sets `[hidden] { display: none; }` but bootstrap.min.css set `[hidden] { display: none !important; }` so we also need the `!important` here to be able to override the default hidden behavior on the sphinx rendered scikit-learn.org. See: https://github.com/scikit-learn/scikit-learn/issues/21755 */display: inline-block !important;position: relative;}#sk-container-id-1 div.sk-text-repr-fallback {display: none;}</style><div id=\"sk-container-id-1\" class=\"sk-top-container\"><div class=\"sk-text-repr-fallback\"><pre>RandomForestRegressor(random_state=42)</pre><b>In a Jupyter environment, please rerun this cell to show the HTML representation or trust the notebook. <br />On GitHub, the HTML representation is unable to render, please try loading this page with nbviewer.org.</b></div><div class=\"sk-container\" hidden><div class=\"sk-item\"><div class=\"sk-estimator sk-toggleable\"><input class=\"sk-toggleable__control sk-hidden--visually\" id=\"sk-estimator-id-1\" type=\"checkbox\" checked><label for=\"sk-estimator-id-1\" class=\"sk-toggleable__label sk-toggleable__label-arrow\">RandomForestRegressor</label><div class=\"sk-toggleable__content\"><pre>RandomForestRegressor(random_state=42)</pre></div></div></div></div></div>"
      ],
      "text/plain": [
       "RandomForestRegressor(random_state=42)"
      ]
     },
     "execution_count": 6,
     "metadata": {},
     "output_type": "execute_result"
    }
   ],
   "source": [
    "rf_temp.fit(X_train, y_temp_train)\n",
    "rf_humidity.fit(X_train, y_humidity_train)\n",
    "rf_cloudcover.fit(X_train, y_cloudcover_train)\n",
    "rf_sealevelpressure.fit(X_train, y_sealevelpressure_train)\n",
    "rf_windspeed.fit(X_train, y_windspeed_train)\n",
    "rf_precip.fit(X_train, y_precip_train)"
   ]
  },
  {
   "cell_type": "code",
   "execution_count": 7,
   "id": "0c54b604-5471-49c9-8721-440679167a1e",
   "metadata": {},
   "outputs": [],
   "source": [
    "temp_pred_test = rf_temp.predict(X_test)\n",
    "humidity_pred_test = rf_humidity.predict(X_test)\n",
    "cloudcover_pred_test = rf_cloudcover.predict(X_test)\n",
    "sealevelpressure_pred_test = rf_sealevelpressure.predict(X_test)\n",
    "windspeed_pred_test = rf_windspeed.predict(X_test)\n",
    "precip_pred_test = rf_precip.predict(X_test)"
   ]
  },
  {
   "cell_type": "code",
   "execution_count": 8,
   "id": "196ca6d9-76c1-4a65-87f9-246e637f44b0",
   "metadata": {},
   "outputs": [],
   "source": [
    "mae_temp = mean_absolute_error(y_temp_test, temp_pred_test)\n",
    "mae_humidity = mean_absolute_error(y_humidity_test, humidity_pred_test)\n",
    "mae_cloudcover = mean_absolute_error(y_cloudcover_test, cloudcover_pred_test)\n",
    "mae_sealevelpressure = mean_absolute_error(y_sealevelpressure_test, sealevelpressure_pred_test)\n",
    "mae_windspeed = mean_absolute_error(y_windspeed_test, windspeed_pred_test)\n",
    "mae_precip = mean_absolute_error(y_precip_test, precip_pred_test)"
   ]
  },
  {
   "cell_type": "code",
   "execution_count": 9,
   "id": "40dc0d16-43ae-4580-9dbf-91629145f72a",
   "metadata": {},
   "outputs": [
    {
     "name": "stdout",
     "output_type": "stream",
     "text": [
      "Mean Absolute Error (MAE) untuk suhu (temp): 0.6291949384404928\n",
      "Mean Absolute Error (MAE) untuk kelembapan (humidity): 2.3828891928864624\n",
      "Mean Absolute Error (MAE) untuk tutupan awan (cloudcover): 6.5471422708618325\n",
      "Mean Absolute Error (MAE) untuk tekanan (sealevelpressure): 0.529666894664816\n",
      "Mean Absolute Error (MAE) untuk kecepatan angin (windspeed): 3.2900745554035566\n",
      "Mean Absolute Error (MAE) untuk curah hujan (precip): 4.1799439398084814\n"
     ]
    }
   ],
   "source": [
    "print(f\"Mean Absolute Error (MAE) untuk suhu (temp): {mae_temp}\")\n",
    "print(f\"Mean Absolute Error (MAE) untuk kelembapan (humidity): {mae_humidity}\")\n",
    "print(f\"Mean Absolute Error (MAE) untuk tutupan awan (cloudcover): {mae_cloudcover}\")\n",
    "print(f\"Mean Absolute Error (MAE) untuk tekanan (sealevelpressure): {mae_sealevelpressure}\")\n",
    "print(f\"Mean Absolute Error (MAE) untuk kecepatan angin (windspeed): {mae_windspeed}\")\n",
    "print(f\"Mean Absolute Error (MAE) untuk curah hujan (precip): {mae_precip}\")"
   ]
  },
  {
   "cell_type": "code",
   "execution_count": 10,
   "id": "fb0abc95-f40a-4163-89bb-f4a1971a960d",
   "metadata": {},
   "outputs": [],
   "source": [
    "date_range = pd.date_range(start='2024-01-01', end='2025-12-30')"
   ]
  },
  {
   "cell_type": "code",
   "execution_count": 11,
   "id": "d7d232f5-ca9b-4dc5-a5f5-06bb845bd604",
   "metadata": {},
   "outputs": [],
   "source": [
    "future_dates = pd.DataFrame({\n",
    "    'tanggal': date_range.day,\n",
    "    'bulan': date_range.month,\n",
    "    'tahun': date_range.year\n",
    "})"
   ]
  },
  {
   "cell_type": "code",
   "execution_count": 12,
   "id": "a3fbe31b-7dce-4949-a4d9-9ddeaf8691fa",
   "metadata": {},
   "outputs": [],
   "source": [
    "unique_name = data['name'].unique()[0] \n",
    "future_dates['name'] = unique_name"
   ]
  },
  {
   "cell_type": "code",
   "execution_count": 13,
   "id": "899be739-f651-46df-bb00-1ef362027473",
   "metadata": {},
   "outputs": [],
   "source": [
    "pred_temp = rf_temp.predict(future_dates[['tanggal', 'bulan', 'tahun']])\n",
    "pred_humidity = rf_humidity.predict(future_dates[['tanggal', 'bulan', 'tahun']])\n",
    "pred_cloudcover = rf_cloudcover.predict(future_dates[['tanggal', 'bulan', 'tahun']])\n",
    "pred_sealevelpressure = rf_sealevelpressure.predict(future_dates[['tanggal', 'bulan', 'tahun']])\n",
    "pred_windspeed = rf_windspeed.predict(future_dates[['tanggal', 'bulan', 'tahun']])\n",
    "pred_precip = rf_precip.predict(future_dates[['tanggal', 'bulan', 'tahun']])"
   ]
  },
  {
   "cell_type": "code",
   "execution_count": 14,
   "id": "d1458fdb-7281-42a7-83b8-6577540a319b",
   "metadata": {},
   "outputs": [],
   "source": [
    "results = pd.DataFrame({\n",
    "    'name': future_dates['name'],\n",
    "    'tanggal': future_dates['tanggal'],\n",
    "    'bulan': future_dates['bulan'],\n",
    "    'tahun': future_dates['tahun'],\n",
    "    'temp': pred_temp,\n",
    "    'humidity': pred_humidity,\n",
    "    'cloudcover': pred_cloudcover,\n",
    "    'sealevelpressure': pred_sealevelpressure,\n",
    "    'windspeed': pred_windspeed,\n",
    "    'precip': pred_precip\n",
    "})"
   ]
  },
  {
   "cell_type": "code",
   "execution_count": 15,
   "id": "3aa75b9d-25db-4be7-b650-5a3a1cec129f",
   "metadata": {},
   "outputs": [
    {
     "name": "stdout",
     "output_type": "stream",
     "text": [
      "Prediksi harian telah disimpan ke 'prediksi_harian_2024_2025.csv'\n"
     ]
    }
   ],
   "source": [
    "results.to_csv('prediksi_harian_2024_2025.csv', index=False)\n",
    "\n",
    "print(\"Prediksi harian telah disimpan ke 'prediksi_harian_2024_2025.csv'\")"
   ]
  }
 ],
 "metadata": {
  "kernelspec": {
   "display_name": "Python 3 (ipykernel)",
   "language": "python",
   "name": "python3"
  },
  "language_info": {
   "codemirror_mode": {
    "name": "ipython",
    "version": 3
   },
   "file_extension": ".py",
   "mimetype": "text/x-python",
   "name": "python",
   "nbconvert_exporter": "python",
   "pygments_lexer": "ipython3",
   "version": "3.10.0"
  }
 },
 "nbformat": 4,
 "nbformat_minor": 5
}
