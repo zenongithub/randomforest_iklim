{
 "cells": [
  {
   "cell_type": "code",
   "execution_count": 1,
   "id": "7fb036b3-8829-4515-b2c8-6fbef24734cf",
   "metadata": {},
   "outputs": [],
   "source": [
    "import pandas as pd"
   ]
  },
  {
   "cell_type": "code",
   "execution_count": 2,
   "id": "b4d9bdef-9aca-49a3-8878-f23f14d52862",
   "metadata": {},
   "outputs": [],
   "source": [
    "file_path = 'dataset_convert/Aceh.csv'\n",
    "df = pd.read_csv(file_path)"
   ]
  },
  {
   "cell_type": "code",
   "execution_count": 3,
   "id": "d15e21b4-9280-4058-874e-242f33e7122c",
   "metadata": {},
   "outputs": [
    {
     "name": "stdout",
     "output_type": "stream",
     "text": [
      "                       name  tanggal  bulan  tahun  temp  humidity  \\\n",
      "0  Nanggroe Aceh Darussalam        1      1   2014  24.5      89.2   \n",
      "1  Nanggroe Aceh Darussalam        2      1   2014  24.7      85.5   \n",
      "2  Nanggroe Aceh Darussalam        3      1   2014  23.9      90.4   \n",
      "3  Nanggroe Aceh Darussalam        4      1   2014  24.5      86.1   \n",
      "4  Nanggroe Aceh Darussalam        5      1   2014  24.6      85.5   \n",
      "\n",
      "   cloudcover  sealevelpressure  windspeed  precip  \n",
      "0        85.8            1010.7       13.0   8.806  \n",
      "1        78.7            1011.1       14.8  76.537  \n",
      "2        90.1            1012.4       16.2   1.140  \n",
      "3        83.4            1011.6       10.8   1.500  \n",
      "4        66.4            1010.3        9.7  10.012  \n"
     ]
    }
   ],
   "source": [
    "print(df.head())"
   ]
  },
  {
   "cell_type": "code",
   "execution_count": 4,
   "id": "bc561685-32e9-4d67-b88a-a00dfa5b4ddd",
   "metadata": {},
   "outputs": [],
   "source": [
    "df['name'] = 'ACEH'"
   ]
  },
  {
   "cell_type": "code",
   "execution_count": 5,
   "id": "4639bae1-e025-4cde-af9c-8efd4f0dceaf",
   "metadata": {},
   "outputs": [
    {
     "name": "stdout",
     "output_type": "stream",
     "text": [
      "\n",
      "Data setelah diubah:\n",
      "   name  tanggal  bulan  tahun  temp  humidity  cloudcover  sealevelpressure  \\\n",
      "0  ACEH        1      1   2014  24.5      89.2        85.8            1010.7   \n",
      "1  ACEH        2      1   2014  24.7      85.5        78.7            1011.1   \n",
      "2  ACEH        3      1   2014  23.9      90.4        90.1            1012.4   \n",
      "3  ACEH        4      1   2014  24.5      86.1        83.4            1011.6   \n",
      "4  ACEH        5      1   2014  24.6      85.5        66.4            1010.3   \n",
      "\n",
      "   windspeed  precip  \n",
      "0       13.0   8.806  \n",
      "1       14.8  76.537  \n",
      "2       16.2   1.140  \n",
      "3       10.8   1.500  \n",
      "4        9.7  10.012  \n"
     ]
    }
   ],
   "source": [
    "print(\"\\nData setelah diubah:\")\n",
    "print(df.head())"
   ]
  },
  {
   "cell_type": "code",
   "execution_count": 6,
   "id": "deeed983-90df-4d61-b569-13d49a24a96a",
   "metadata": {},
   "outputs": [],
   "source": [
    "df.to_csv('dataset_fix/Aceh.csv', index=False)"
   ]
  },
  {
   "cell_type": "code",
   "execution_count": null,
   "id": "13999c8e-e125-41e8-ac2e-8e2d20e21534",
   "metadata": {},
   "outputs": [],
   "source": []
  }
 ],
 "metadata": {
  "kernelspec": {
   "display_name": "Python 3 (ipykernel)",
   "language": "python",
   "name": "python3"
  },
  "language_info": {
   "codemirror_mode": {
    "name": "ipython",
    "version": 3
   },
   "file_extension": ".py",
   "mimetype": "text/x-python",
   "name": "python",
   "nbconvert_exporter": "python",
   "pygments_lexer": "ipython3",
   "version": "3.10.0"
  }
 },
 "nbformat": 4,
 "nbformat_minor": 5
}
