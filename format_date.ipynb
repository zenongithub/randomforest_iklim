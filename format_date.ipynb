{
 "cells": [
  {
   "cell_type": "code",
   "execution_count": 18,
   "id": "5fe380fc-e9e2-4b26-bc8e-dbbf1aa9d11d",
   "metadata": {},
   "outputs": [
    {
     "name": "stdout",
     "output_type": "stream",
     "text": [
      "        name   datetime  tempmax  tempmin  temp  feelslikemax  feelslikemin  \\\n",
      "0  gorontalo 2023-01-01     31.2     23.3  26.9          38.8          23.3   \n",
      "1  gorontalo 2023-01-02     32.2     23.2  26.9          38.8          23.2   \n",
      "2  gorontalo 2023-01-03     32.2     23.1  26.6          40.3          23.1   \n",
      "3  gorontalo 2023-01-04     33.4     22.7  26.8          40.5          22.7   \n",
      "4  gorontalo 2023-01-05     32.5     23.2  27.2          40.3          23.2   \n",
      "\n",
      "   feelslike   dew  humidity  ...  solarenergy  uvindex  severerisk  \\\n",
      "0       28.8  23.1      81.1  ...         20.2        8          30   \n",
      "1       28.7  23.1      81.1  ...         23.9        9          30   \n",
      "2       28.4  23.3      83.4  ...         20.9        9          30   \n",
      "3       28.6  23.2      82.1  ...         24.3        9          30   \n",
      "4       29.4  23.3      80.7  ...         23.9        9          60   \n",
      "\n",
      "               sunrise               sunset  moonphase  \\\n",
      "0  2023-01-01T05:48:22  2023-01-01T17:53:47       0.30   \n",
      "1  2023-01-02T05:48:50  2023-01-02T17:54:15       0.33   \n",
      "2  2023-01-03T05:49:18  2023-01-03T17:54:43       0.37   \n",
      "3  2023-01-04T05:49:45  2023-01-04T17:55:11       0.40   \n",
      "4  2023-01-05T05:50:12  2023-01-05T17:55:38       0.44   \n",
      "\n",
      "               conditions                                  description  \\\n",
      "0        Partially cloudy            Partly cloudy throughout the day.   \n",
      "1  Rain, Partially cloudy  Partly cloudy throughout the day with rain.   \n",
      "2          Rain, Overcast   Cloudy skies throughout the day with rain.   \n",
      "3  Rain, Partially cloudy  Partly cloudy throughout the day with rain.   \n",
      "4  Rain, Partially cloudy  Partly cloudy throughout the day with rain.   \n",
      "\n",
      "                icon            stations  \n",
      "0  partly-cloudy-day  97048099999,remote  \n",
      "1               rain  97048099999,remote  \n",
      "2               rain  97048099999,remote  \n",
      "3               rain  97048099999,remote  \n",
      "4               rain  97048099999,remote  \n",
      "\n",
      "[5 rows x 33 columns]\n"
     ]
    }
   ],
   "source": [
    "import pandas as pd\n",
    "\n",
    "# Membaca file CSV\n",
    "df = pd.read_csv('Gorontalo6.csv')\n",
    "\n",
    "# Mengubah kolom 'datetime' menjadi tipe datetime\n",
    "df['datetime'] = pd.to_datetime(df['datetime'], format='%d/%m/%Y')\n",
    "\n",
    "# Memeriksa hasil\n",
    "print(df.head())\n",
    "\n",
    "# Jika ingin menyimpan kembali ke file CSV\n",
    "df.to_csv('dataset_rare/Gorontalo/Gorontalo6.csv', index=False)\n"
   ]
  },
  {
   "cell_type": "code",
   "execution_count": null,
   "id": "4fd34707-f5b5-4f1c-aaec-43a676074782",
   "metadata": {},
   "outputs": [],
   "source": []
  }
 ],
 "metadata": {
  "kernelspec": {
   "display_name": "Python 3 (ipykernel)",
   "language": "python",
   "name": "python3"
  },
  "language_info": {
   "codemirror_mode": {
    "name": "ipython",
    "version": 3
   },
   "file_extension": ".py",
   "mimetype": "text/x-python",
   "name": "python",
   "nbconvert_exporter": "python",
   "pygments_lexer": "ipython3",
   "version": "3.10.0"
  }
 },
 "nbformat": 4,
 "nbformat_minor": 5
}
