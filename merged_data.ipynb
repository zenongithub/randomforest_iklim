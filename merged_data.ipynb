{
 "cells": [
  {
   "cell_type": "code",
   "execution_count": 1,
   "id": "259c7c50-73e9-462b-af07-9d82c9f05bdb",
   "metadata": {},
   "outputs": [],
   "source": [
    "import os\n",
    "import pandas as pd"
   ]
  },
  {
   "cell_type": "code",
   "execution_count": 2,
   "id": "40b1a613-185c-4e77-98fc-c2720b6fcb8d",
   "metadata": {},
   "outputs": [],
   "source": [
    "folder_path = 'dataset_fix'"
   ]
  },
  {
   "cell_type": "code",
   "execution_count": 3,
   "id": "c6e3b009-c384-49e4-8280-89fafc0ae2b7",
   "metadata": {},
   "outputs": [],
   "source": [
    "data_frames = []"
   ]
  },
  {
   "cell_type": "code",
   "execution_count": 4,
   "id": "7b9ef8ca-88d6-48b0-b3ac-53028b2e35d7",
   "metadata": {},
   "outputs": [],
   "source": [
    "for file_name in os.listdir(folder_path):\n",
    "    if file_name.endswith('.csv'):\n",
    "        file_path = os.path.join(folder_path, file_name)\n",
    "        df = pd.read_csv(file_path)\n",
    "        data_frames.append(df)"
   ]
  },
  {
   "cell_type": "code",
   "execution_count": 5,
   "id": "ba848fe8-3770-498c-8189-0780021d8d21",
   "metadata": {},
   "outputs": [],
   "source": [
    "data_gabung = pd.concat(data_frames, ignore_index=True)"
   ]
  },
  {
   "cell_type": "code",
   "execution_count": 6,
   "id": "629a3d1c-d3cf-409d-ba7b-c83ba56fd640",
   "metadata": {},
   "outputs": [
    {
     "name": "stdout",
     "output_type": "stream",
     "text": [
      "Semua file CSV berhasil digabungkan ke 'dataset_gabungan.csv'\n"
     ]
    }
   ],
   "source": [
    "data_gabung.to_csv('dataset_gabungan.csv', index=False)\n",
    "\n",
    "print(\"Semua file CSV berhasil digabungkan ke 'dataset_gabungan.csv'\")"
   ]
  },
  {
   "cell_type": "code",
   "execution_count": null,
   "id": "a330e270-fe30-4b39-93d9-760a88602e9e",
   "metadata": {},
   "outputs": [],
   "source": []
  }
 ],
 "metadata": {
  "kernelspec": {
   "display_name": "Python 3 (ipykernel)",
   "language": "python",
   "name": "python3"
  },
  "language_info": {
   "codemirror_mode": {
    "name": "ipython",
    "version": 3
   },
   "file_extension": ".py",
   "mimetype": "text/x-python",
   "name": "python",
   "nbconvert_exporter": "python",
   "pygments_lexer": "ipython3",
   "version": "3.10.0"
  }
 },
 "nbformat": 4,
 "nbformat_minor": 5
}
