{
 "cells": [
  {
   "cell_type": "code",
   "execution_count": 92,
   "id": "68a1b4b6-54ca-40e2-96cb-646360aa864b",
   "metadata": {},
   "outputs": [],
   "source": [
    "import pandas as pd\n",
    "import glob"
   ]
  },
  {
   "cell_type": "code",
   "execution_count": 93,
   "id": "3debd2e6-137a-4ef6-bf09-86e0b38e2c6a",
   "metadata": {},
   "outputs": [],
   "source": [
    "folder_path = \"dataset_rare/Bangka Belitung\" #nama folder yang berisi file csv dari 2014-2023"
   ]
  },
  {
   "cell_type": "code",
   "execution_count": 94,
   "id": "2076fdee-eeb0-4509-ba16-ee8eba96befb",
   "metadata": {},
   "outputs": [],
   "source": [
    "csv_files = glob.glob(f'{folder_path}/*.CSV')"
   ]
  },
  {
   "cell_type": "code",
   "execution_count": 95,
   "id": "dcd0d266-4af2-41c7-82d9-7fa62d545f03",
   "metadata": {},
   "outputs": [],
   "source": [
    "df_list = [pd.read_csv(file) for file in csv_files]\n",
    "merged_df = pd.concat(df_list, ignore_index=True)"
   ]
  },
  {
   "cell_type": "code",
   "execution_count": 96,
   "id": "4cac1944-c2aa-42c8-9d2f-01e25bcfd3e9",
   "metadata": {},
   "outputs": [],
   "source": [
    "merged_df['datetime'] = pd.to_datetime(merged_df['datetime'], errors='coerce')"
   ]
  },
  {
   "cell_type": "code",
   "execution_count": 97,
   "id": "66786a6c-0e7d-4b08-9739-6be81745d638",
   "metadata": {},
   "outputs": [],
   "source": [
    "merged_df = merged_df.sort_values(by='datetime')"
   ]
  },
  {
   "cell_type": "code",
   "execution_count": 98,
   "id": "75ee5544-ca06-496b-ae80-402066bc7a15",
   "metadata": {},
   "outputs": [
    {
     "name": "stdout",
     "output_type": "stream",
     "text": [
      "Data berhasil digabungkan dan diurutkan berdasarkan tanggal!\n"
     ]
    }
   ],
   "source": [
    "merged_df.to_csv('dataset_rare/Bangka Belitung.csv', index=False) #file tujuan\n",
    "\n",
    "print(\"Data berhasil digabungkan dan diurutkan berdasarkan tanggal!\")"
   ]
  },
  {
   "cell_type": "code",
   "execution_count": null,
   "id": "8ec5de48-bcef-4a56-839b-47db273580a2",
   "metadata": {},
   "outputs": [],
   "source": []
  }
 ],
 "metadata": {
  "kernelspec": {
   "display_name": "Python 3 (ipykernel)",
   "language": "python",
   "name": "python3"
  },
  "language_info": {
   "codemirror_mode": {
    "name": "ipython",
    "version": 3
   },
   "file_extension": ".py",
   "mimetype": "text/x-python",
   "name": "python",
   "nbconvert_exporter": "python",
   "pygments_lexer": "ipython3",
   "version": "3.10.0"
  }
 },
 "nbformat": 4,
 "nbformat_minor": 5
}
