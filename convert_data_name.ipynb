{
 "cells": [
  {
   "cell_type": "code",
   "execution_count": 1,
   "id": "f319cab1-d2ee-4d16-bdd7-2feeddd04eae",
   "metadata": {},
   "outputs": [],
   "source": [
    "import pandas as pd"
   ]
  },
  {
   "cell_type": "code",
   "execution_count": 2,
   "id": "52c68b0f-8b98-4bf9-a7ec-ea3031980ed0",
   "metadata": {},
   "outputs": [],
   "source": [
    "df = pd.read_csv('dataset_merged_all/pulau jawa.csv')"
   ]
  },
  {
   "cell_type": "code",
   "execution_count": 3,
   "id": "1c36d192-7cde-4bd2-852e-cccbc37df61d",
   "metadata": {},
   "outputs": [],
   "source": [
    "df['name'] = df['name'].str.upper()"
   ]
  },
  {
   "cell_type": "code",
   "execution_count": 4,
   "id": "0396c37e-78ff-4fc3-92cc-6da343bdbcb2",
   "metadata": {},
   "outputs": [
    {
     "name": "stdout",
     "output_type": "stream",
     "text": [
      "Kolom 'name' telah diperbaiki menjadi kapital semua.\n"
     ]
    }
   ],
   "source": [
    "df.to_csv('data gabungan.csv', index=False)\n",
    "\n",
    "print(\"Kolom 'name' telah diperbaiki menjadi kapital semua.\")"
   ]
  },
  {
   "cell_type": "code",
   "execution_count": null,
   "id": "ca5eeff0-479d-4de1-8f30-562be035cdbe",
   "metadata": {},
   "outputs": [],
   "source": []
  }
 ],
 "metadata": {
  "kernelspec": {
   "display_name": "Python 3 (ipykernel)",
   "language": "python",
   "name": "python3"
  },
  "language_info": {
   "codemirror_mode": {
    "name": "ipython",
    "version": 3
   },
   "file_extension": ".py",
   "mimetype": "text/x-python",
   "name": "python",
   "nbconvert_exporter": "python",
   "pygments_lexer": "ipython3",
   "version": "3.10.0"
  }
 },
 "nbformat": 4,
 "nbformat_minor": 5
}
